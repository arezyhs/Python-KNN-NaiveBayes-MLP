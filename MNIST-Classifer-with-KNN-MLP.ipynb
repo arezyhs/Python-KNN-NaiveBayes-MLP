{
  "nbformat": 4,
  "nbformat_minor": 0,
  "metadata": {
    "colab": {
      "provenance": [],
      "authorship_tag": "ABX9TyNQFKSGsLUw4H5K7Ar5Udbt",
      "include_colab_link": true
    },
    "kernelspec": {
      "name": "python3",
      "display_name": "Python 3"
    },
    "language_info": {
      "name": "python"
    }
  },
  "cells": [
    {
      "cell_type": "markdown",
      "metadata": {
        "id": "view-in-github",
        "colab_type": "text"
      },
      "source": [
        "<a href=\"https://colab.research.google.com/github/arezyhs/Python-KNN-NaiveBayes-MLP/blob/main/MNIST-Classifer-with-KNN-MLP.ipynb\" target=\"_parent\"><img src=\"https://colab.research.google.com/assets/colab-badge.svg\" alt=\"Open In Colab\"/></a>"
      ]
    },
    {
      "cell_type": "code",
      "execution_count": 1,
      "metadata": {
        "colab": {
          "base_uri": "https://localhost:8080/"
        },
        "id": "HcZeCY88pN-8",
        "outputId": "bb6ca072-a94a-4e16-a0a6-02f035ab05a2"
      },
      "outputs": [
        {
          "output_type": "stream",
          "name": "stdout",
          "text": [
            "X_train shape: (60000, 784)\n",
            "X_test shape: (10000, 784)\n"
          ]
        }
      ],
      "source": [
        "import numpy as np\n",
        "import gzip\n",
        "\n",
        "def load_mnist_images(filename):\n",
        "    with gzip.open(filename, 'rb') as f:\n",
        "        # Membaca data sesuai format yang digunakan\n",
        "        f.read(4)  # Skip magic number\n",
        "        num_images = int.from_bytes(f.read(4), byteorder='big')\n",
        "        rows = int.from_bytes(f.read(4), byteorder='big')\n",
        "        cols = int.from_bytes(f.read(4), byteorder='big')\n",
        "        images = np.frombuffer(f.read(), dtype=np.uint8).reshape(num_images, rows * cols)\n",
        "    return images\n",
        "\n",
        "def load_mnist_labels(filename):\n",
        "    with gzip.open(filename, 'rb') as f:\n",
        "        # Membaca data label\n",
        "        f.read(4)  # Skip magic number\n",
        "        num_labels = int.from_bytes(f.read(4), byteorder='big')\n",
        "        labels = np.frombuffer(f.read(), dtype=np.uint8)\n",
        "    return labels\n",
        "\n",
        "# Memuat data MNIST\n",
        "X_train = load_mnist_images('train-images-idx3-ubyte.gz')\n",
        "y_train = load_mnist_labels('train-labels-idx1-ubyte.gz')\n",
        "X_test = load_mnist_images('t10k-images-idx3-ubyte.gz')\n",
        "y_test = load_mnist_labels('t10k-labels-idx1-ubyte.gz')\n",
        "\n",
        "# Normalisasi data\n",
        "X_train = X_train / 255.0\n",
        "X_test = X_test / 255.0\n",
        "\n",
        "# Cek bentuk data\n",
        "print(f\"X_train shape: {X_train.shape}\")\n",
        "print(f\"X_test shape: {X_test.shape}\")"
      ]
    },
    {
      "cell_type": "code",
      "source": [
        "from sklearn.neighbors import KNeighborsClassifier\n",
        "from sklearn.metrics import accuracy_score\n",
        "\n",
        "# Model KNN dengan k=3 (jumlah tetangga terdekat)\n",
        "knn = KNeighborsClassifier(n_neighbors=3)\n",
        "\n",
        "# Melatih model KNN\n",
        "knn.fit(X_train, y_train)\n",
        "\n",
        "# Menggunakan model untuk prediksi\n",
        "y_pred = knn.predict(X_test)\n",
        "\n",
        "# Menghitung akurasi\n",
        "accuracy = accuracy_score(y_test, y_pred)\n",
        "print(f\"Akurasi KNN: {accuracy * 100:.2f}%\")"
      ],
      "metadata": {
        "colab": {
          "base_uri": "https://localhost:8080/"
        },
        "id": "tCC_jgwApQCs",
        "outputId": "72a7f5e7-5752-4c7f-f7cf-c7c97e77ca6d"
      },
      "execution_count": 2,
      "outputs": [
        {
          "output_type": "stream",
          "name": "stdout",
          "text": [
            "Akurasi KNN: 97.05%\n"
          ]
        }
      ]
    },
    {
      "cell_type": "code",
      "source": [
        "import tensorflow as tf\n",
        "from tensorflow.keras.models import Sequential\n",
        "from tensorflow.keras.layers import Dense, Flatten\n",
        "from tensorflow.keras.optimizers import Adam\n",
        "from tensorflow.keras.utils import to_categorical\n",
        "\n",
        "# Preprocessing label menjadi kategori (one-hot encoding)\n",
        "y_train_cat = to_categorical(y_train, 10)\n",
        "y_test_cat = to_categorical(y_test, 10)\n",
        "\n",
        "# Membuat model MLP\n",
        "model = Sequential([\n",
        "    Flatten(input_shape=(28 * 28,)),  # Mengubah gambar 28x28 menjadi vektor 1D\n",
        "    Dense(128, activation='relu'),    # Layer tersembunyi dengan 128 neuron\n",
        "    Dense(10, activation='softmax')   # Output layer dengan 10 kelas (0-9)\n",
        "])\n",
        "\n",
        "# Kompilasi model\n",
        "model.compile(optimizer=Adam(), loss='categorical_crossentropy', metrics=['accuracy'])\n",
        "\n",
        "# Melatih model MLP\n",
        "model.fit(X_train, y_train_cat, epochs=5, batch_size=32, validation_data=(X_test, y_test_cat))\n",
        "\n",
        "# Menghitung akurasi pada data uji\n",
        "test_loss, test_acc = model.evaluate(X_test, y_test_cat)\n",
        "print(f\"Akurasi MLP: {test_acc * 100:.2f}%\")"
      ],
      "metadata": {
        "colab": {
          "base_uri": "https://localhost:8080/"
        },
        "id": "dApEKMPRpRTe",
        "outputId": "80fe6112-ac7a-47cc-c188-4aa389ec6bf3"
      },
      "execution_count": 3,
      "outputs": [
        {
          "output_type": "stream",
          "name": "stderr",
          "text": [
            "/usr/local/lib/python3.10/dist-packages/keras/src/layers/reshaping/flatten.py:37: UserWarning: Do not pass an `input_shape`/`input_dim` argument to a layer. When using Sequential models, prefer using an `Input(shape)` object as the first layer in the model instead.\n",
            "  super().__init__(**kwargs)\n"
          ]
        },
        {
          "output_type": "stream",
          "name": "stdout",
          "text": [
            "Epoch 1/5\n",
            "\u001b[1m1875/1875\u001b[0m \u001b[32m━━━━━━━━━━━━━━━━━━━━\u001b[0m\u001b[37m\u001b[0m \u001b[1m7s\u001b[0m 3ms/step - accuracy: 0.8784 - loss: 0.4271 - val_accuracy: 0.9625 - val_loss: 0.1245\n",
            "Epoch 2/5\n",
            "\u001b[1m1875/1875\u001b[0m \u001b[32m━━━━━━━━━━━━━━━━━━━━\u001b[0m\u001b[37m\u001b[0m \u001b[1m10s\u001b[0m 3ms/step - accuracy: 0.9661 - loss: 0.1161 - val_accuracy: 0.9700 - val_loss: 0.0985\n",
            "Epoch 3/5\n",
            "\u001b[1m1875/1875\u001b[0m \u001b[32m━━━━━━━━━━━━━━━━━━━━\u001b[0m\u001b[37m\u001b[0m \u001b[1m7s\u001b[0m 4ms/step - accuracy: 0.9764 - loss: 0.0782 - val_accuracy: 0.9740 - val_loss: 0.0849\n",
            "Epoch 4/5\n",
            "\u001b[1m1875/1875\u001b[0m \u001b[32m━━━━━━━━━━━━━━━━━━━━\u001b[0m\u001b[37m\u001b[0m \u001b[1m5s\u001b[0m 3ms/step - accuracy: 0.9828 - loss: 0.0566 - val_accuracy: 0.9752 - val_loss: 0.0801\n",
            "Epoch 5/5\n",
            "\u001b[1m1875/1875\u001b[0m \u001b[32m━━━━━━━━━━━━━━━━━━━━\u001b[0m\u001b[37m\u001b[0m \u001b[1m8s\u001b[0m 4ms/step - accuracy: 0.9866 - loss: 0.0430 - val_accuracy: 0.9755 - val_loss: 0.0795\n",
            "\u001b[1m313/313\u001b[0m \u001b[32m━━━━━━━━━━━━━━━━━━━━\u001b[0m\u001b[37m\u001b[0m \u001b[1m0s\u001b[0m 1ms/step - accuracy: 0.9716 - loss: 0.0944\n",
            "Akurasi MLP: 97.55%\n"
          ]
        }
      ]
    }
  ]
}