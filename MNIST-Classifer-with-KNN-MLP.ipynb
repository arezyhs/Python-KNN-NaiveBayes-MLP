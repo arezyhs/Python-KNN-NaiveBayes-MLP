{
  "nbformat": 4,
  "nbformat_minor": 0,
  "metadata": {
    "colab": {
      "provenance": [],
      "authorship_tag": "ABX9TyOIqPJkv7ZEWGkRS3aF95MZ",
      "include_colab_link": true
    },
    "kernelspec": {
      "name": "python3",
      "display_name": "Python 3"
    },
    "language_info": {
      "name": "python"
    }
  },
  "cells": [
    {
      "cell_type": "markdown",
      "metadata": {
        "id": "view-in-github",
        "colab_type": "text"
      },
      "source": [
        "<a href=\"https://colab.research.google.com/github/arezyhs/Python-KNN-NaiveBayes-MLP/blob/main/MNIST-Classifer-with-KNN-MLP.ipynb\" target=\"_parent\"><img src=\"https://colab.research.google.com/assets/colab-badge.svg\" alt=\"Open In Colab\"/></a>"
      ]
    },
    {
      "cell_type": "code",
      "execution_count": 1,
      "metadata": {
        "colab": {
          "base_uri": "https://localhost:8080/"
        },
        "id": "HcZeCY88pN-8",
        "outputId": "679455dd-7b99-4681-91c1-3872d352e414"
      },
      "outputs": [
        {
          "output_type": "stream",
          "name": "stdout",
          "text": [
            "X_train shape: (60000, 784)\n",
            "X_test shape: (10000, 784)\n"
          ]
        }
      ],
      "source": [
        "import numpy as np\n",
        "import gzip\n",
        "from sklearn.model_selection import train_test_split\n",
        "\n",
        "def load_mnist_images(filename):\n",
        "    with gzip.open(filename, 'rb') as f:\n",
        "        f.read(4)  # Skip magic number\n",
        "        num_images = int.from_bytes(f.read(4), byteorder='big')\n",
        "        rows = int.from_bytes(f.read(4), byteorder='big')\n",
        "        cols = int.from_bytes(f.read(4), byteorder='big')\n",
        "        images = np.frombuffer(f.read(), dtype=np.uint8).reshape(num_images, rows * cols)\n",
        "    return images\n",
        "\n",
        "def load_mnist_labels(filename):\n",
        "    with gzip.open(filename, 'rb') as f:\n",
        "        # Membaca data label\n",
        "        f.read(4)  # Skip magic number\n",
        "        num_labels = int.from_bytes(f.read(4), byteorder='big')\n",
        "        labels = np.frombuffer(f.read(), dtype=np.uint8)\n",
        "    return labels\n",
        "\n",
        "# Memuat data MNIST\n",
        "X_train = load_mnist_images('train-images-idx3-ubyte.gz')\n",
        "y_train = load_mnist_labels('train-labels-idx1-ubyte.gz')\n",
        "X_test = load_mnist_images('t10k-images-idx3-ubyte.gz')\n",
        "y_test = load_mnist_labels('t10k-labels-idx1-ubyte.gz')\n",
        "\n",
        "# Normalisasi data\n",
        "X_train = X_train / 255.0\n",
        "X_test = X_test / 255.0\n",
        "\n",
        "# Cek bentuk data\n",
        "print(f\"X_train shape: {X_train.shape}\")\n",
        "print(f\"X_test shape: {X_test.shape}\")"
      ]
    },
    {
      "cell_type": "code",
      "source": [
        "from sklearn.neighbors import KNeighborsClassifier\n",
        "from sklearn.metrics import accuracy_score\n",
        "\n",
        "# Model KNN dengan k=3 (jumlah tetangga terdekat)\n",
        "knn = KNeighborsClassifier(n_neighbors=3)\n",
        "# Melatih model KNN\n",
        "knn.fit(X_train, y_train)\n",
        "# Menggunakan model untuk prediksi\n",
        "y_pred = knn.predict(X_test)\n",
        "# Menghitung akurasi\n",
        "accuracy = accuracy_score(y_test, y_pred)\n",
        "print(f\"Akurasi KNN: {accuracy * 100:.2f}%\")"
      ],
      "metadata": {
        "colab": {
          "base_uri": "https://localhost:8080/"
        },
        "id": "tCC_jgwApQCs",
        "outputId": "925e17b7-4548-48a8-bade-012a14e7e0ab"
      },
      "execution_count": 2,
      "outputs": [
        {
          "output_type": "stream",
          "name": "stdout",
          "text": [
            "Akurasi KNN: 97.05%\n"
          ]
        }
      ]
    },
    {
      "cell_type": "code",
      "source": [
        "from sklearn.neural_network import MLPClassifier\n",
        "\n",
        "# Membuat model MLP\n",
        "mlp = MLPClassifier(hidden_layer_sizes=(128,), max_iter=10, alpha=1e-4, solver='adam', random_state=42)\n",
        "# Melatih model MLP\n",
        "mlp.fit(X_train, y_train)\n",
        "# Menggunakan model untuk prediksi\n",
        "y_pred_mlp = mlp.predict(X_test)\n",
        "# Menghitung akurasi pada data uji\n",
        "mlp_accuracy = accuracy_score(y_test, y_pred_mlp)\n",
        "print(f\"Akurasi MLP: {mlp_accuracy * 100:.2f}%\")"
      ],
      "metadata": {
        "colab": {
          "base_uri": "https://localhost:8080/"
        },
        "id": "dApEKMPRpRTe",
        "outputId": "ff824fb2-1b2a-4292-ac2c-42f0d4bce41e"
      },
      "execution_count": 3,
      "outputs": [
        {
          "output_type": "stream",
          "name": "stdout",
          "text": [
            "Akurasi MLP: 97.68%\n"
          ]
        },
        {
          "output_type": "stream",
          "name": "stderr",
          "text": [
            "/usr/local/lib/python3.10/dist-packages/sklearn/neural_network/_multilayer_perceptron.py:690: ConvergenceWarning: Stochastic Optimizer: Maximum iterations (10) reached and the optimization hasn't converged yet.\n",
            "  warnings.warn(\n"
          ]
        }
      ]
    }
  ]
}