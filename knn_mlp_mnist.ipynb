{
  "nbformat": 4,
  "nbformat_minor": 0,
  "metadata": {
    "colab": {
      "provenance": [],
      "name": "knn_mlp_mnist.ipynb",
      "authorship_tag": "ABX9TyPeIgxJDYXNFjLlqLLbtLJ3",
      "include_colab_link": true
    },
    "kernelspec": {
      "name": "python3",
      "display_name": "Python 3"
    },
    "language_info": {
      "name": "python"
    }
  },
  "cells": [
    {
      "cell_type": "markdown",
      "metadata": {
        "id": "view-in-github",
        "colab_type": "text"
      },
      "source": [
        "<a href=\"https://colab.research.google.com/github/arezyhs/Python-KNN-NaiveBayes-MLP/blob/main/knn_mlp_mnist.ipynb\" target=\"_parent\"><img src=\"https://colab.research.google.com/assets/colab-badge.svg\" alt=\"Open In Colab\"/></a>"
      ]
    },
    {
      "cell_type": "code",
      "source": [
        "import numpy as np\n",
        "import struct\n",
        "import gzip\n",
        "import matplotlib.pyplot as plt\n",
        "from sklearn.neighbors import KNeighborsClassifier\n",
        "from sklearn.neural_network import MLPClassifier\n",
        "from sklearn.metrics import accuracy_score\n",
        "from sklearn.model_selection import train_test_split\n",
        "import joblib\n",
        "\n",
        "# Fungsi untuk membaca file gambar MNIST\n",
        "def load_mnist_images(file_name):\n",
        "    with gzip.open(file_name, 'rb') as f:\n",
        "        magic, num_images, rows, cols = struct.unpack('>IIII', f.read(16))\n",
        "        images = np.frombuffer(f.read(), dtype=np.uint8).reshape(num_images, rows, cols)\n",
        "    return images\n",
        "\n",
        "# Fungsi untuk membaca file label MNIST\n",
        "def load_mnist_labels(file_name):\n",
        "    with gzip.open(file_name, 'rb') as f:\n",
        "        magic, num_labels = struct.unpack('>II', f.read(8))\n",
        "        labels = np.frombuffer(f.read(), dtype=np.uint8)\n",
        "    return labels\n",
        "\n",
        "# Memuat dataset MNIST yang telah diunggah\n",
        "train_images = load_mnist_images('train-images-idx3-ubyte.gz')\n",
        "train_labels = load_mnist_labels('train-labels-idx1-ubyte.gz')\n",
        "test_images = load_mnist_images('t10k-images-idx3-ubyte.gz')\n",
        "test_labels = load_mnist_labels('t10k-labels-idx1-ubyte.gz')\n",
        "\n",
        "# Menampilkan dimensi dataset\n",
        "print(f\"Train Images Shape: {train_images.shape}\")\n",
        "print(f\"Train Labels Shape: {train_labels.shape}\")\n",
        "print(f\"Test Images Shape: {test_images.shape}\")\n",
        "print(f\"Test Labels Shape: {test_labels.shape}\")\n",
        "\n",
        "# Pra-pemrosesan: Reshape data menjadi vektor 1D dan normalisasi\n",
        "train_images_flat = train_images.reshape(train_images.shape[0], -1) / 255.0\n",
        "test_images_flat = test_images.reshape(test_images.shape[0], -1) / 255.0\n",
        "\n",
        "# Membagi data pelatihan menjadi training dan validation set\n",
        "X_train, X_val, y_train, y_val = train_test_split(train_images_flat, train_labels, test_size=0.2, random_state=42)\n",
        "\n",
        "# ----------------------\n",
        "# Model KNN\n",
        "# ----------------------\n",
        "\n",
        "# Membuat dan melatih model KNN\n",
        "knn = KNeighborsClassifier(n_neighbors=3)\n",
        "knn.fit(X_train, y_train)\n",
        "\n",
        "# Evaluasi model KNN menggunakan data validasi\n",
        "y_val_pred_knn = knn.predict(X_val)\n",
        "val_accuracy_knn = accuracy_score(y_val, y_val_pred_knn)\n",
        "print(f'KNN Accuracy on Validation Set: {val_accuracy_knn * 100:.2f}%')\n",
        "\n",
        "# Evaluasi model KNN menggunakan data uji\n",
        "y_test_pred_knn = knn.predict(test_images_flat)\n",
        "test_accuracy_knn = accuracy_score(test_labels, y_test_pred_knn)\n",
        "print(f'KNN Accuracy on Test Set: {test_accuracy_knn * 100:.2f}%')\n",
        "\n",
        "# ----------------------\n",
        "# Model MLP\n",
        "# ----------------------\n",
        "\n",
        "# Membuat dan melatih model MLP\n",
        "mlp = MLPClassifier(hidden_layer_sizes=(128,), max_iter=10, random_state=42, solver='adam', verbose=True)\n",
        "mlp.fit(X_train, y_train)\n",
        "\n",
        "# Evaluasi model MLP menggunakan data validasi\n",
        "y_val_pred_mlp = mlp.predict(X_val)\n",
        "val_accuracy_mlp = accuracy_score(y_val, y_val_pred_mlp)\n",
        "print(f'MLP Accuracy on Validation Set: {val_accuracy_mlp * 100:.2f}%')\n",
        "\n",
        "# Evaluasi model MLP menggunakan data uji\n",
        "y_test_pred_mlp = mlp.predict(test_images_flat)\n",
        "test_accuracy_mlp = accuracy_score(test_labels, y_test_pred_mlp)\n",
        "print(f'MLP Accuracy on Test Set: {test_accuracy_mlp * 100:.2f}%')\n",
        "\n",
        "# ----------------------\n",
        "# Perbandingan Akurasi\n",
        "# ----------------------\n",
        "print(\"\\nPerbandingan Akurasi:\")\n",
        "print(f\"KNN Accuracy on Test Set: {test_accuracy_knn * 100:.2f}%\")\n",
        "print(f\"MLP Accuracy on Test Set: {test_accuracy_mlp * 100:.2f}%\")\n",
        "\n",
        "# ----------------------\n",
        "# Visualisasi Gambar dan Prediksi\n",
        "# ----------------------\n",
        "index = 0  # Ganti indeks jika ingin melihat gambar lain\n",
        "\n",
        "# Menampilkan gambar uji dan hasil prediksi KNN\n",
        "plt.imshow(test_images[index], cmap='gray')\n",
        "plt.title(f\"KNN Predicted: {y_test_pred_knn[index]}, Actual: {test_labels[index]}\")\n",
        "plt.show()\n",
        "\n",
        "# Menampilkan gambar uji dan hasil prediksi MLP\n",
        "plt.imshow(test_images[index], cmap='gray')\n",
        "plt.title(f\"MLP Predicted: {y_test_pred_mlp[index]}, Actual: {test_labels[index]}\")\n",
        "plt.show()\n",
        "\n",
        "# ----------------------\n",
        "# Menyimpan Model (Opsional)\n",
        "# ----------------------\n",
        "joblib.dump(knn, 'knn_mnist_model.pkl')\n",
        "joblib.dump(mlp, 'mlp_mnist_model.pkl')\n",
        "\n",
        "# Menyimpan model ke dalam folder lokal\n",
        "print(\"Model KNN dan MLP telah disimpan.\")"
      ],
      "metadata": {
        "id": "LciYWfkcLKs-",
        "outputId": "a104fcb2-1dfb-4651-c6d7-073180435f2a",
        "colab": {
          "base_uri": "https://localhost:8080/",
          "height": 1000
        }
      },
      "execution_count": 2,
      "outputs": [
        {
          "output_type": "stream",
          "name": "stdout",
          "text": [
            "Train Images Shape: (60000, 28, 28)\n",
            "Train Labels Shape: (60000,)\n",
            "Test Images Shape: (10000, 28, 28)\n",
            "Test Labels Shape: (10000,)\n",
            "KNN Accuracy on Validation Set: 97.27%\n",
            "KNN Accuracy on Test Set: 96.81%\n",
            "Iteration 1, loss = 0.45877092\n",
            "Iteration 2, loss = 0.21910752\n",
            "Iteration 3, loss = 0.16600304\n",
            "Iteration 4, loss = 0.13386874\n",
            "Iteration 5, loss = 0.11008644\n",
            "Iteration 6, loss = 0.09274100\n",
            "Iteration 7, loss = 0.07891697\n",
            "Iteration 8, loss = 0.06758690\n",
            "Iteration 9, loss = 0.05882468\n",
            "Iteration 10, loss = 0.05184131\n",
            "MLP Accuracy on Validation Set: 97.42%\n"
          ]
        },
        {
          "output_type": "stream",
          "name": "stderr",
          "text": [
            "/usr/local/lib/python3.10/dist-packages/sklearn/neural_network/_multilayer_perceptron.py:690: ConvergenceWarning: Stochastic Optimizer: Maximum iterations (10) reached and the optimization hasn't converged yet.\n",
            "  warnings.warn(\n"
          ]
        },
        {
          "output_type": "stream",
          "name": "stdout",
          "text": [
            "MLP Accuracy on Test Set: 97.23%\n",
            "\n",
            "Perbandingan Akurasi:\n",
            "KNN Accuracy on Test Set: 96.81%\n",
            "MLP Accuracy on Test Set: 97.23%\n"
          ]
        },
        {
          "output_type": "display_data",
          "data": {
            "text/plain": [
              "<Figure size 640x480 with 1 Axes>"
            ],
            "image/png": "[encoded data removed]"
          },
          "metadata": {}
        },
        {
          "output_type": "display_data",
          "data": {
            "text/plain": [
              "<Figure size 640x480 with 1 Axes>"
            ],
            "image/png": "[encoded data removed]"
          },
          "metadata": {}
        },
        {
          "output_type": "stream",
          "name": "stdout",
          "text": [
            "Model KNN dan MLP telah disimpan.\n"
          ]
        }
      ]
    }
  ]
}