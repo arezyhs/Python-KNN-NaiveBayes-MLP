{
  "nbformat": 4,
  "nbformat_minor": 0,
  "metadata": {
    "colab": {
      "provenance": [],
      "name": "knn_mlp_mnist.ipynb",
      "authorship_tag": "ABX9TyNt8KHXktd6jRsRtzvFzKVv",
      "include_colab_link": true
    },
    "kernelspec": {
      "name": "python3",
      "display_name": "Python 3"
    },
    "language_info": {
      "name": "python"
    }
  },
  "cells": [
    {
      "cell_type": "markdown",
      "metadata": {
        "id": "view-in-github",
        "colab_type": "text"
      },
      "source": [
        "<a href=\"https://colab.research.google.com/github/arezyhs/Python-KNN-NaiveBayes-MLP/blob/main/KNN-MLP-Classifier-for-MNIST-Dataset-with-Evaluation.ipynb\" target=\"_parent\"><img src=\"https://colab.research.google.com/assets/colab-badge.svg\" alt=\"Open In Colab\"/></a>"
      ]
    },
    {
      "cell_type": "markdown",
      "source": [
        "# 📊 Penerapan Classifier terhadap MNIST Handwritten Dataset Menggunakan Naive Bayes, K Neares Neighbour, dan Multiple Layer Perceptron\n",
        "---\n",
        "* **Author**: [arezyhs](https://github.com/arezyhs)\n",
        "* **Source Dataset**: [Dataset](https://github.com/cvdfoundation/mnist) dan [Original](https://yann.lecun.com/exdb/mnist/)\n",
        "\n",
        "\n"
      ],
      "metadata": {
        "id": "B8Zwo07cOCZj"
      }
    },
    {
      "cell_type": "markdown",
      "source": [
        "## Segmen 1: Install dan Import Libraries\n",
        "Pada segmen ini, kita akan mengimpor semua pustaka yang diperlukan seperti sklearn, matplotlib, numpy, dan pustaka lainnya.\n"
      ],
      "metadata": {
        "id": "r7Uf_R0pODQT"
      }
    },
    {
      "cell_type": "code",
      "source": [
        "# Install libraries yang dibutuhkan (jika belum diinstal)\n",
        "!pip install -q scikit-learn seaborn\n",
        "\n",
        "# Import libraries yang diperlukan\n",
        "import pandas as pd\n",
        "import numpy as np\n",
        "import struct\n",
        "import gzip\n",
        "import matplotlib.pyplot as plt\n",
        "from sklearn.neighbors import KNeighborsClassifier\n",
        "from sklearn.neural_network import MLPClassifier\n",
        "from sklearn.naive_bayes import GaussianNB\n",
        "from sklearn.metrics import accuracy_score, precision_score, recall_score, f1_score, confusion_matrix\n",
        "from sklearn.model_selection import train_test_split\n",
        "import joblib\n",
        "import time\n",
        "import seaborn as sns\n",
        "from google.colab import files\n",
        "from PIL import Image\n",
        "import io"
      ],
      "metadata": {
        "id": "tR3Fi7H6OOjU"
      },
      "execution_count": 1,
      "outputs": []
    },
    {
      "cell_type": "markdown",
      "source": [
        "## **Segmen 2: Fungsi untuk Memuat Dataset MNIST**\n",
        "Segmen ini berisi fungsi untuk membaca file gambar dan label dari dataset MNIST."
      ],
      "metadata": {
        "id": "zSCxRTxpOSCj"
      }
    },
    {
      "cell_type": "code",
      "source": [
        "# Fungsi untuk membaca file gambar MNIST\n",
        "def load_mnist_images(file_name):\n",
        "    with gzip.open(file_name, 'rb') as f:\n",
        "        magic, num_images, rows, cols = struct.unpack('>IIII', f.read(16))\n",
        "        images = np.frombuffer(f.read(), dtype=np.uint8).reshape(num_images, rows, cols)\n",
        "    return images\n",
        "\n",
        "# Fungsi untuk membaca file label MNIST\n",
        "def load_mnist_labels(file_name):\n",
        "    with gzip.open(file_name, 'rb') as f:\n",
        "        magic, num_labels = struct.unpack('>II', f.read(8))\n",
        "        labels = np.frombuffer(f.read(), dtype=np.uint8)\n",
        "    return labels\n",
        "\n",
        "# Memuat dataset MNIST\n",
        "train_images = load_mnist_images('train-images-idx3-ubyte.gz')\n",
        "train_labels = load_mnist_labels('train-labels-idx1-ubyte.gz')\n",
        "test_images = load_mnist_images('t10k-images-idx3-ubyte.gz')\n",
        "test_labels = load_mnist_labels('t10k-labels-idx1-ubyte.gz')\n",
        "\n",
        "# Menampilkan dimensi dataset\n",
        "print(f\"Train Images Shape: {train_images.shape}\")\n",
        "print(f\"Train Labels Shape: {train_labels.shape}\")\n",
        "print(f\"Test Images Shape: {test_images.shape}\")\n",
        "print(f\"Test Labels Shape: {test_labels.shape}\")"
      ],
      "metadata": {
        "id": "h4Ztw_dEO4Xj",
        "outputId": "8e38d2c2-8da1-4626-bab3-e4376736a460",
        "colab": {
          "base_uri": "https://localhost:8080/"
        }
      },
      "execution_count": 2,
      "outputs": [
        {
          "output_type": "stream",
          "name": "stdout",
          "text": [
            "Train Images Shape: (60000, 28, 28)\n",
            "Train Labels Shape: (60000,)\n",
            "Test Images Shape: (10000, 28, 28)\n",
            "Test Labels Shape: (10000,)\n"
          ]
        }
      ]
    },
    {
      "cell_type": "markdown",
      "source": [
        "## Segmen 3: Pra-pemrosesan Data\n",
        "Pada segmen ini, kita akan meratakan (flatten) gambar menjadi vektor 1D dan menormalisasi nilai piksel gambar antara 0 dan 1."
      ],
      "metadata": {
        "id": "qJmPYesTO67a"
      }
    },
    {
      "cell_type": "code",
      "source": [
        "# Pra-pemrosesan: Reshape data menjadi vektor 1D dan normalisasi\n",
        "train_images_flat = train_images.reshape(train_images.shape[0], -1) / 255.0\n",
        "test_images_flat = test_images.reshape(test_images.shape[0], -1) / 255.0\n",
        "\n",
        "# Menampilkan contoh gambar untuk memastikan data siap\n",
        "plt.imshow(train_images[0], cmap='gray')\n",
        "plt.title(f\"Label: {train_labels[0]}\")\n",
        "plt.axis('off')\n",
        "plt.show()"
      ],
      "metadata": {
        "id": "go7jAgyPO_yr",
        "outputId": "064581f6-ce15-4f56-a2ae-012a9a0b0c58",
        "colab": {
          "base_uri": "https://localhost:8080/",
          "height": 428
        }
      },
      "execution_count": 3,
      "outputs": [
        {
          "output_type": "display_data",
          "data": {
            "text/plain": [
              "<Figure size 640x480 with 1 Axes>"
            ],
            "image/png": "[encoded data removed]"
          },
          "metadata": {}
        }
      ]
    },
    {
      "cell_type": "markdown",
      "source": [
        "## Segmen 4: Melatih dan Evaluasi Model KNN\n",
        "Pada segmen ini, kita akan melatih model KNN dan mengevaluasi kinerjanya menggunakan akurasi, precision, recall, F1-score, dan confusion matrix."
      ],
      "metadata": {
        "id": "UIuuD44wPBWL"
      }
    },
    {
      "cell_type": "code",
      "source": [
        "# ----------------------\n",
        "# Model KNN\n",
        "# ----------------------\n",
        "\n",
        "print(\"\\nMelatih model KNN...\")\n",
        "\n",
        "# Mengukur waktu pelatihan\n",
        "start_time = time.time()\n",
        "knn = KNeighborsClassifier(n_neighbors=3)\n",
        "knn.fit(train_images_flat, train_labels)\n",
        "knn_training_time = time.time() - start_time\n",
        "\n",
        "# Mengukur waktu prediksi\n",
        "start_time = time.time()\n",
        "y_test_pred_knn = knn.predict(test_images_flat)\n",
        "knn_prediction_time = time.time() - start_time\n",
        "\n",
        "# Evaluasi model KNN menggunakan data uji\n",
        "test_accuracy_knn = accuracy_score(test_labels, y_test_pred_knn)\n",
        "\n",
        "# Metode evaluasi tambahan: Precision, Recall, F1-score\n",
        "precision_knn = precision_score(test_labels, y_test_pred_knn, average='weighted')\n",
        "recall_knn = recall_score(test_labels, y_test_pred_knn, average='weighted')\n",
        "f1_knn = f1_score(test_labels, y_test_pred_knn, average='weighted')\n",
        "\n",
        "# Menghitung confusion matrix untuk KNN\n",
        "cm_knn = confusion_matrix(test_labels, y_test_pred_knn)\n",
        "\n",
        "# Menampilkan hasil KNN\n",
        "print(f\"\\nKNN Performance:\")\n",
        "print(f\"Akurasi pada Data Uji: {test_accuracy_knn * 100:.2f}%\")\n",
        "print(f\"Precision: {precision_knn * 100:.2f}%\")\n",
        "print(f\"Recall: {recall_knn * 100:.2f}%\")\n",
        "print(f\"F1-score: {f1_knn * 100:.2f}%\")\n",
        "print(f\"Waktu Pelatihan: {knn_training_time:.4f} detik\")\n",
        "print(f\"Waktu Prediksi: {knn_prediction_time:.4f} detik\")"
      ],
      "metadata": {
        "id": "Sg3x6cbkPK0a",
        "outputId": "30e93746-6024-4e17-8e6b-1cf971dbaf15",
        "colab": {
          "base_uri": "https://localhost:8080/"
        }
      },
      "execution_count": 4,
      "outputs": [
        {
          "output_type": "stream",
          "name": "stdout",
          "text": [
            "\n",
            "Melatih model KNN...\n",
            "\n",
            "KNN Performance:\n",
            "Akurasi pada Data Uji: 97.05%\n",
            "Precision: 97.07%\n",
            "Recall: 97.05%\n",
            "F1-score: 97.05%\n",
            "Waktu Pelatihan: 0.0598 detik\n",
            "Waktu Prediksi: 55.2366 detik\n"
          ]
        }
      ]
    },
    {
      "cell_type": "markdown",
      "source": [
        "## Segmen 5: Melatih dan Evaluasi Model MLP\n",
        "Segmen ini melatih MLPClassifier (Multilayer Perceptron) dan mengevaluasi kinerjanya dengan metrik yang sama seperti KNN."
      ],
      "metadata": {
        "id": "O-wlEVymPNAz"
      }
    },
    {
      "cell_type": "code",
      "source": [
        "# ----------------------\n",
        "# Model MLP\n",
        "# ----------------------\n",
        "\n",
        "print(\"\\nMelatih model MLP...\")\n",
        "\n",
        "# Mengukur waktu pelatihan\n",
        "start_time = time.time()\n",
        "mlp = MLPClassifier(hidden_layer_sizes=(128,), max_iter=10, random_state=42, solver='adam', verbose=True)\n",
        "mlp.fit(train_images_flat, train_labels)\n",
        "mlp_training_time = time.time() - start_time\n",
        "\n",
        "# Mengukur waktu prediksi\n",
        "start_time = time.time()\n",
        "y_test_pred_mlp = mlp.predict(test_images_flat)\n",
        "mlp_prediction_time = time.time() - start_time\n",
        "\n",
        "# Evaluasi model MLP menggunakan data uji\n",
        "test_accuracy_mlp = accuracy_score(test_labels, y_test_pred_mlp)\n",
        "\n",
        "# Metode evaluasi tambahan: Precision, Recall, F1-score\n",
        "precision_mlp = precision_score(test_labels, y_test_pred_mlp, average='weighted')\n",
        "recall_mlp = recall_score(test_labels, y_test_pred_mlp, average='weighted')\n",
        "f1_mlp = f1_score(test_labels, y_test_pred_mlp, average='weighted')\n",
        "\n",
        "# Menghitung confusion matrix untuk MLP\n",
        "cm_mlp = confusion_matrix(test_labels, y_test_pred_mlp)\n",
        "\n",
        "# Menampilkan hasil MLP\n",
        "print(f\"\\nMLP Performance:\")\n",
        "print(f\"Akurasi pada Data Uji: {test_accuracy_mlp * 100:.2f}%\")\n",
        "print(f\"Precision: {precision_mlp * 100:.2f}%\")\n",
        "print(f\"Recall: {recall_mlp * 100:.2f}%\")\n",
        "print(f\"F1-score: {f1_mlp * 100:.2f}%\")\n",
        "print(f\"Waktu Pelatihan: {mlp_training_time:.4f} detik\")\n",
        "print(f\"Waktu Prediksi: {mlp_prediction_time:.4f} detik\")"
      ],
      "metadata": {
        "id": "JyZFgqJsPQoL",
        "outputId": "310684e7-319d-4fac-e4c3-74d4092d65d9",
        "colab": {
          "base_uri": "https://localhost:8080/"
        }
      },
      "execution_count": 5,
      "outputs": [
        {
          "output_type": "stream",
          "name": "stdout",
          "text": [
            "\n",
            "Melatih model MLP...\n",
            "Iteration 1, loss = 0.41619411\n",
            "Iteration 2, loss = 0.19314035\n",
            "Iteration 3, loss = 0.14445639\n",
            "Iteration 4, loss = 0.11472031\n",
            "Iteration 5, loss = 0.09547300\n",
            "Iteration 6, loss = 0.07918333\n",
            "Iteration 7, loss = 0.06725462\n",
            "Iteration 8, loss = 0.05814065\n",
            "Iteration 9, loss = 0.05014928\n",
            "Iteration 10, loss = 0.04368844\n",
            "\n",
            "MLP Performance:\n",
            "Akurasi pada Data Uji: 97.68%\n",
            "Precision: 97.68%\n",
            "Recall: 97.68%\n",
            "F1-score: 97.68%\n",
            "Waktu Pelatihan: 22.2934 detik\n",
            "Waktu Prediksi: 0.1263 detik\n"
          ]
        },
        {
          "output_type": "stream",
          "name": "stderr",
          "text": [
            "/usr/local/lib/python3.10/dist-packages/sklearn/neural_network/_multilayer_perceptron.py:690: ConvergenceWarning: Stochastic Optimizer: Maximum iterations (10) reached and the optimization hasn't converged yet.\n",
            "  warnings.warn(\n"
          ]
        }
      ]
    },
    {
      "cell_type": "markdown",
      "source": [
        "## Segmen 6: Melatih dan Evaluasi Model Naive Bayes\n",
        "Segmen ini melatih Naive Bayes dan mengevaluasi kinerjanya."
      ],
      "metadata": {
        "id": "_BXGp2iOPTjT"
      }
    },
    {
      "cell_type": "code",
      "source": [
        "# ----------------------\n",
        "# Model Naive Bayes\n",
        "# ----------------------\n",
        "\n",
        "print(\"\\nMelatih model Naive Bayes...\")\n",
        "\n",
        "# Mengukur waktu pelatihan\n",
        "start_time = time.time()\n",
        "nb = GaussianNB()\n",
        "nb.fit(train_images_flat, train_labels)\n",
        "nb_training_time = time.time() - start_time\n",
        "\n",
        "# Mengukur waktu prediksi\n",
        "start_time = time.time()\n",
        "y_test_pred_nb = nb.predict(test_images_flat)\n",
        "nb_prediction_time = time.time() - start_time\n",
        "\n",
        "# Evaluasi model Naive Bayes menggunakan data uji\n",
        "test_accuracy_nb = accuracy_score(test_labels, y_test_pred_nb)\n",
        "\n",
        "# Metode evaluasi tambahan: Precision, Recall, F1-score\n",
        "precision_nb = precision_score(test_labels, y_test_pred_nb, average='weighted')\n",
        "recall_nb = recall_score(test_labels, y_test_pred_nb, average='weighted')\n",
        "f1_nb = f1_score(test_labels, y_test_pred_nb, average='weighted')\n",
        "\n",
        "# Menghitung confusion matrix untuk Naive Bayes\n",
        "cm_nb = confusion_matrix(test_labels, y_test_pred_nb)\n",
        "\n",
        "# Menampilkan hasil Naive Bayes\n",
        "print(f\"\\nNaive Bayes Performance:\")\n",
        "print(f\"Akurasi pada Data Uji: {test_accuracy_nb * 100:.2f}%\")\n",
        "print(f\"Precision: {precision_nb * 100:.2f}%\")\n",
        "print(f\"Recall: {recall_nb * 100:.2f}%\")\n",
        "print(f\"F1-score: {f1_nb * 100:.2f}%\")\n",
        "print(f\"Waktu Pelatihan: {nb_training_time:.4f} detik\")\n",
        "print(f\"Waktu Prediksi: {nb_prediction_time:.4f} detik\")"
      ],
      "metadata": {
        "id": "I0nB6c3xPVHK",
        "outputId": "5db0ba0a-686a-478f-e333-9c0641441fb3",
        "colab": {
          "base_uri": "https://localhost:8080/"
        }
      },
      "execution_count": 6,
      "outputs": [
        {
          "output_type": "stream",
          "name": "stdout",
          "text": [
            "\n",
            "Melatih model Naive Bayes...\n",
            "\n",
            "Naive Bayes Performance:\n",
            "Akurasi pada Data Uji: 55.58%\n",
            "Precision: 69.17%\n",
            "Recall: 55.58%\n",
            "F1-score: 51.70%\n",
            "Waktu Pelatihan: 0.7370 detik\n",
            "Waktu Prediksi: 0.7459 detik\n"
          ]
        }
      ]
    },
    {
      "cell_type": "markdown",
      "source": [
        "## Segmen 7: Visualisasi Perbandingan Akurasi\n",
        "Segmen ini menunjukkan grafik perbandingan akurasi antara KNN, MLP, dan Naive Bayes."
      ],
      "metadata": {
        "id": "iLIqqQg8PYeL"
      }
    },
    {
      "cell_type": "code",
      "source": [
        "# ----------------------\n",
        "# Visualisasi Perbandingan Akurasi\n",
        "# ----------------------\n",
        "\n",
        "# Membuat grafik perbandingan akurasi\n",
        "models = ['KNN', 'MLP', 'Naive Bayes']\n",
        "accuracies = [test_accuracy_knn, test_accuracy_mlp, test_accuracy_nb]\n",
        "\n",
        "plt.figure(figsize=(8, 6))\n",
        "plt.bar(models, accuracies, color=['blue', 'green', 'red'])\n",
        "plt.xlabel('Model')\n",
        "plt.ylabel('Akurasi')\n",
        "plt.title('Perbandingan Akurasi Model pada Dataset MNIST')\n",
        "plt.ylim([0.0, 1.0])\n",
        "plt.show()"
      ],
      "metadata": {
        "id": "XzkQ4BI1Pau7",
        "outputId": "26301443-a56e-4661-b5be-22f8206e2b82",
        "colab": {
          "base_uri": "https://localhost:8080/",
          "height": 564
        }
      },
      "execution_count": 7,
      "outputs": [
        {
          "output_type": "display_data",
          "data": {
            "text/plain": [
              "<Figure size 800x600 with 1 Axes>"
            ],
            "image/png": "[encoded data removed]"
          },
          "metadata": {}
        }
      ]
    },
    {
      "cell_type": "markdown",
      "source": [
        "## Segmen 8: Meng-upload Gambar dan Melakukan Prediksi\n",
        "Pada segmen ini, digunakan meng-upload gambar tulisan tangan dan melakukan prediksi menggunakan model yang telah dilatih."
      ],
      "metadata": {
        "id": "kytj3orZPgCz"
      }
    },
    {
      "cell_type": "code",
      "source": [
        "from google.colab import files\n",
        "from PIL import Image\n",
        "import numpy as np\n",
        "import matplotlib.pyplot as plt\n",
        "\n",
        "# ------------------------------\n",
        "# Upload Gambar\n",
        "# ------------------------------\n",
        "print(\"Gunakan \")\n",
        "uploaded = files.upload()\n",
        "# Ambil nama file gambar yang di-upload\n",
        "image_path = next(iter(uploaded))\n",
        "\n",
        "# ------------------------------\n",
        "# Memuat dan Menampilkan Gambar\n",
        "# ------------------------------\n",
        "img = Image.open(image_path)\n",
        "img_resized = img.convert('L').resize((28, 28))\n",
        "\n",
        "# Menampilkan gambar yang di-upload\n",
        "plt.imshow(img_resized, cmap='gray')\n",
        "plt.title(\"Data Test MNIST\")\n",
        "plt.axis('off')\n",
        "plt.show()\n",
        "\n",
        "# ------------------------------\n",
        "# Pra-pemrosesan Gambar: Normalisasi dan Meratakan\n",
        "# ------------------------------\n",
        "# Mengonversi gambar yang difilter menjadi array numpy\n",
        "img_array = np.array(img_resized) / 255.0  # Normalisasi (nilai piksel 0-1)\n",
        "img_array_flat = img_array.reshape(1, 28 * 28)  # Meratakan gambar menjadi vektor 1D\n",
        "\n",
        "# ------------------------------\n",
        "# Prediksi Menggunakan Model\n",
        "# ------------------------------\n",
        "# Prediksi dengan KNN\n",
        "knn_prediction = knn.predict(img_array_flat)\n",
        "\n",
        "# Prediksi dengan MLP\n",
        "mlp_prediction = mlp.predict(img_array_flat)\n",
        "\n",
        "# Prediksi dengan Naive Bayes\n",
        "nb_pred = nb.predict(img_array_flat)\n",
        "\n",
        "# Hasil prediksi\n",
        "print(f\"Prediksi dengan KNN: {knn_prediction[0]}\")\n",
        "print(f\"Prediksi dengan MLP: {mlp_prediction[0]}\")\n",
        "print(f\"Prediksi dengan Naive Bayes: {nb_pred[0]}\")"
      ],
      "metadata": {
        "id": "MyzP1AlyPmck",
        "outputId": "9d434823-5236-46a7-eb6e-21565df9bb9c",
        "colab": {
          "base_uri": "https://localhost:8080/",
          "height": 536
        }
      },
      "execution_count": 13,
      "outputs": [
        {
          "output_type": "display_data",
          "data": {
            "text/plain": [
              "<IPython.core.display.HTML object>"
            ],
            "text/html": [
              "\n",
              "     <input type=\"file\" id=\"files-a158a741-05a6-4784-bac2-767d56559bd8\" name=\"files[]\" multiple disabled\n",
              "        style=\"border:none\" />\n",
              "     <output id=\"result-a158a741-05a6-4784-bac2-767d56559bd8\">\n",
              "      Upload widget is only available when the cell has been executed in the\n",
              "      current browser session. Please rerun this cell to enable.\n",
              "      </output>\n",
              "      <script>// Copyright 2017 Google LLC\n",
              "//\n",
              "// Licensed under the Apache License, Version 2.0 (the \"License\");\n",
              "// you may not use this file except in compliance with the License.\n",
              "// You may obtain a copy of the License at\n",
              "//\n",
              "//      http://www.apache.org/licenses/LICENSE-2.0\n",
              "//\n",
              "// Unless required by applicable law or agreed to in writing, software\n",
              "// distributed under the License is distributed on an \"AS IS\" BASIS,\n",
              "// WITHOUT WARRANTIES OR CONDITIONS OF ANY KIND, either express or implied.\n",
              "// See the License for the specific language governing permissions and\n",
              "// limitations under the License.\n",
              "\n",
              "/**\n",
              " * @fileoverview Helpers for google.colab Python module.\n",
              " */\n",
              "(function(scope) {\n",
              "function span(text, styleAttributes = {}) {\n",
              "  const element = document.createElement('span');\n",
              "  element.textContent = text;\n",
              "  for (const key of Object.keys(styleAttributes)) {\n",
              "    element.style[key] = styleAttributes[key];\n",
              "  }\n",
              "  return element;\n",
              "}\n",
              "\n",
              "// Max number of bytes which will be uploaded at a time.\n",
              "const MAX_PAYLOAD_SIZE = 100 * 1024;\n",
              "\n",
              "function _uploadFiles(inputId, outputId) {\n",
              "  const steps = uploadFilesStep(inputId, outputId);\n",
              "  const outputElement = document.getElementById(outputId);\n",
              "  // Cache steps on the outputElement to make it available for the next call\n",
              "  // to uploadFilesContinue from Python.\n",
              "  outputElement.steps = steps;\n",
              "\n",
              "  return _uploadFilesContinue(outputId);\n",
              "}\n",
              "\n",
              "// This is roughly an async generator (not supported in the browser yet),\n",
              "// where there are multiple asynchronous steps and the Python side is going\n",
              "// to poll for completion of each step.\n",
              "// This uses a Promise to block the python side on completion of each step,\n",
              "// then passes the result of the previous step as the input to the next step.\n",
              "function _uploadFilesContinue(outputId) {\n",
              "  const outputElement = document.getElementById(outputId);\n",
              "  const steps = outputElement.steps;\n",
              "\n",
              "  const next = steps.next(outputElement.lastPromiseValue);\n",
              "  return Promise.resolve(next.value.promise).then((value) => {\n",
              "    // Cache the last promise value to make it available to the next\n",
              "    // step of the generator.\n",
              "    outputElement.lastPromiseValue = value;\n",
              "    return next.value.response;\n",
              "  });\n",
              "}\n",
              "\n",
              "/**\n",
              " * Generator function which is called between each async step of the upload\n",
              " * process.\n",
              " * @param {string} inputId Element ID of the input file picker element.\n",
              " * @param {string} outputId Element ID of the output display.\n",
              " * @return {!Iterable<!Object>} Iterable of next steps.\n",
              " */\n",
              "function* uploadFilesStep(inputId, outputId) {\n",
              "  const inputElement = document.getElementById(inputId);\n",
              "  inputElement.disabled = false;\n",
              "\n",
              "  const outputElement = document.getElementById(outputId);\n",
              "  outputElement.innerHTML = '';\n",
              "\n",
              "  const pickedPromise = new Promise((resolve) => {\n",
              "    inputElement.addEventListener('change', (e) => {\n",
              "      resolve(e.target.files);\n",
              "    });\n",
              "  });\n",
              "\n",
              "  const cancel = document.createElement('button');\n",
              "  inputElement.parentElement.appendChild(cancel);\n",
              "  cancel.textContent = 'Cancel upload';\n",
              "  const cancelPromise = new Promise((resolve) => {\n",
              "    cancel.onclick = () => {\n",
              "      resolve(null);\n",
              "    };\n",
              "  });\n",
              "\n",
              "  // Wait for the user to pick the files.\n",
              "  const files = yield {\n",
              "    promise: Promise.race([pickedPromise, cancelPromise]),\n",
              "    response: {\n",
              "      action: 'starting',\n",
              "    }\n",
              "  };\n",
              "\n",
              "  cancel.remove();\n",
              "\n",
              "  // Disable the input element since further picks are not allowed.\n",
              "  inputElement.disabled = true;\n",
              "\n",
              "  if (!files) {\n",
              "    return {\n",
              "      response: {\n",
              "        action: 'complete',\n",
              "      }\n",
              "    };\n",
              "  }\n",
              "\n",
              "  for (const file of files) {\n",
              "    const li = document.createElement('li');\n",
              "    li.append(span(file.name, {fontWeight: 'bold'}));\n",
              "    li.append(span(\n",
              "        `(${file.type || 'n/a'}) - ${file.size} bytes, ` +\n",
              "        `last modified: ${\n",
              "            file.lastModifiedDate ? file.lastModifiedDate.toLocaleDateString() :\n",
              "                                    'n/a'} - `));\n",
              "    const percent = span('0% done');\n",
              "    li.appendChild(percent);\n",
              "\n",
              "    outputElement.appendChild(li);\n",
              "\n",
              "    const fileDataPromise = new Promise((resolve) => {\n",
              "      const reader = new FileReader();\n",
              "      reader.onload = (e) => {\n",
              "        resolve(e.target.result);\n",
              "      };\n",
              "      reader.readAsArrayBuffer(file);\n",
              "    });\n",
              "    // Wait for the data to be ready.\n",
              "    let fileData = yield {\n",
              "      promise: fileDataPromise,\n",
              "      response: {\n",
              "        action: 'continue',\n",
              "      }\n",
              "    };\n",
              "\n",
              "    // Use a chunked sending to avoid message size limits. See b/62115660.\n",
              "    let position = 0;\n",
              "    do {\n",
              "      const length = Math.min(fileData.byteLength - position, MAX_PAYLOAD_SIZE);\n",
              "      const chunk = new Uint8Array(fileData, position, length);\n",
              "      position += length;\n",
              "\n",
              "      const base64 = btoa(String.fromCharCode.apply(null, chunk));\n",
              "      yield {\n",
              "        response: {\n",
              "          action: 'append',\n",
              "          file: file.name,\n",
              "          data: base64,\n",
              "        },\n",
              "      };\n",
              "\n",
              "      let percentDone = fileData.byteLength === 0 ?\n",
              "          100 :\n",
              "          Math.round((position / fileData.byteLength) * 100);\n",
              "      percent.textContent = `${percentDone}% done`;\n",
              "\n",
              "    } while (position < fileData.byteLength);\n",
              "  }\n",
              "\n",
              "  // All done.\n",
              "  yield {\n",
              "    response: {\n",
              "      action: 'complete',\n",
              "    }\n",
              "  };\n",
              "}\n",
              "\n",
              "scope.google = scope.google || {};\n",
              "scope.google.colab = scope.google.colab || {};\n",
              "scope.google.colab._files = {\n",
              "  _uploadFiles,\n",
              "  _uploadFilesContinue,\n",
              "};\n",
              "})(self);\n",
              "</script> "
            ]
          },
          "metadata": {}
        },
        {
          "output_type": "stream",
          "name": "stdout",
          "text": [
            "Saving 9988.jpg to 9988.jpg\n"
          ]
        },
        {
          "output_type": "display_data",
          "data": {
            "text/plain": [
              "<Figure size 640x480 with 1 Axes>"
            ],
            "image/png": "[encoded data removed]"
          },
          "metadata": {}
        },
        {
          "output_type": "stream",
          "name": "stdout",
          "text": [
            "Prediksi dengan KNN: 5\n",
            "Prediksi dengan MLP: 5\n",
            "Prediksi dengan Naive Bayes: 1\n"
          ]
        }
      ]
    }
  ]
}